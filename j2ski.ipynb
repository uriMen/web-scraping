{
 "cells": [
  {
   "cell_type": "code",
   "execution_count": 1,
   "metadata": {},
   "outputs": [],
   "source": [
    "from bs4 import BeautifulSoup\n",
    "import requests\n",
    "import numpy as np\n",
    "import pandas as pd\n",
    "import matplotlib.pyplot as plt\n",
    "import seaborn as sns\n",
    "import warnings\n",
    "\n",
    "%matplotlib inline\n",
    "warnings.filterwarnings('ignore')"
   ]
  },
  {
   "cell_type": "code",
   "execution_count": 2,
   "metadata": {},
   "outputs": [],
   "source": [
    "# create a list of all EU countries with ski resorts\n",
    "html = requests.get('https://www.j2ski.com/ski_resorts/').text\n",
    "soup = BeautifulSoup(html, 'html.parser')\n",
    "eu_countries = []\n",
    "main_batch = [country.text for country in soup.select('aside ul li a')]\n",
    "sub_batch = [country.text for country in soup.select('aside div p a')]\n",
    "eu_countries = main_batch + sub_batch\n",
    "eu_countries = ['Bosnia and Herzegovina' if country == 'Bosnia' \n",
    "                else country for country in eu_countries] \n",
    "# eu_countries"
   ]
  },
  {
   "cell_type": "code",
   "execution_count": 3,
   "metadata": {},
   "outputs": [],
   "source": [
    "# get resorts from each country from https://www.j2ski.com/ski_resorts/*COUNTRY*/\n",
    "def get_country_url(country):\n",
    "    \"\"\"returns the j2ski page which contains details about the country's resorts\"\"\"\n",
    "    if country == 'Bosnia and Herzegovina':\n",
    "        return f'https://www.j2ski.com/ski_resorts/Bosnia/'\n",
    "    elif country == 'Czech Republic':\n",
    "        return f'https://www.j2ski.com/ski_resorts/Czech_Republic/'\n",
    "    else:\n",
    "        return f'https://www.j2ski.com/ski_resorts/{country}/'\n",
    "\n",
    "def get_resorts_table(country):\n",
    "    \"\"\"returns the tag which contains the table with all the resort in the country\"\"\"\n",
    "    html = requests.get(get_country_url(country)).text\n",
    "    soup = BeautifulSoup(html, 'html.parser')\n",
    "    for h3 in soup.select('div h3'):\n",
    "        if (h3.text == f'The Ski Resorts of {country}'):\n",
    "            return h3.parent\n",
    "\n",
    "def get_resorts(country):\n",
    "    \"\"\"given a country name, extract all its resorts and their j2ski page url. return a dict\"\"\"\n",
    "    table = get_resorts_table(country)\n",
    "    return [{'ResortName': resort.text,\n",
    "             'Country': country,\n",
    "             'URL': get_country_url(country) + resort.get('href')} \n",
    "            for resort in table.find_all('a')]"
   ]
  },
  {
   "cell_type": "code",
   "execution_count": 216,
   "metadata": {},
   "outputs": [],
   "source": [
    "# create a {country:[resorts]} dictionary\n",
    "# country_resorts_dict = {}\n",
    "# for country in eu_countries:\n",
    "#     try:\n",
    "#         country_resorts_dict[country] = get_resorts_list(country)\n",
    "#     except AttributeError:\n",
    "#         print(country_resorts_dict.keys, country_resorts_dict.values)\n",
    "# country_resorts_dict"
   ]
  },
  {
   "cell_type": "code",
   "execution_count": 4,
   "metadata": {},
   "outputs": [],
   "source": [
    "# create dataframe\n",
    "resorts_df = pd.DataFrame(columns=['ResortName', 'Country', 'URL'])\n",
    "for country in eu_countries:\n",
    "    resorts = get_resorts(country)\n",
    "    for resort in resorts:\n",
    "        resorts_df.loc[resorts_df.shape[0]] = resort"
   ]
  },
  {
   "cell_type": "code",
   "execution_count": 5,
   "metadata": {},
   "outputs": [
    {
     "data": {
      "text/html": [
       "<div>\n",
       "<style scoped>\n",
       "    .dataframe tbody tr th:only-of-type {\n",
       "        vertical-align: middle;\n",
       "    }\n",
       "\n",
       "    .dataframe tbody tr th {\n",
       "        vertical-align: top;\n",
       "    }\n",
       "\n",
       "    .dataframe thead th {\n",
       "        text-align: right;\n",
       "    }\n",
       "</style>\n",
       "<table border=\"1\" class=\"dataframe\">\n",
       "  <thead>\n",
       "    <tr style=\"text-align: right;\">\n",
       "      <th></th>\n",
       "      <th>ResortName</th>\n",
       "      <th>Country</th>\n",
       "      <th>URL</th>\n",
       "    </tr>\n",
       "  </thead>\n",
       "  <tbody>\n",
       "    <tr>\n",
       "      <th>689</th>\n",
       "      <td>Kubínska Hol'a</td>\n",
       "      <td>Slovakia</td>\n",
       "      <td>https://www.j2ski.com/ski_resorts/Slovakia/Kub...</td>\n",
       "    </tr>\n",
       "    <tr>\n",
       "      <th>142</th>\n",
       "      <td>Val d'Isère</td>\n",
       "      <td>France</td>\n",
       "      <td>https://www.j2ski.com/ski_resorts/France/Val_d...</td>\n",
       "    </tr>\n",
       "    <tr>\n",
       "      <th>761</th>\n",
       "      <td>Björnrike</td>\n",
       "      <td>Sweden</td>\n",
       "      <td>https://www.j2ski.com/ski_resorts/Sweden/Bjorn...</td>\n",
       "    </tr>\n",
       "  </tbody>\n",
       "</table>\n",
       "</div>"
      ],
      "text/plain": [
       "         ResortName   Country  \\\n",
       "689  Kubínska Hol'a  Slovakia   \n",
       "142     Val d'Isère    France   \n",
       "761       Björnrike    Sweden   \n",
       "\n",
       "                                                   URL  \n",
       "689  https://www.j2ski.com/ski_resorts/Slovakia/Kub...  \n",
       "142  https://www.j2ski.com/ski_resorts/France/Val_d...  \n",
       "761  https://www.j2ski.com/ski_resorts/Sweden/Bjorn...  "
      ]
     },
     "execution_count": 5,
     "metadata": {},
     "output_type": "execute_result"
    }
   ],
   "source": [
    "resorts_df.sample(3)"
   ]
  },
  {
   "cell_type": "code",
   "execution_count": 6,
   "metadata": {},
   "outputs": [
    {
     "data": {
      "text/plain": [
       "True"
      ]
     },
     "execution_count": 6,
     "metadata": {},
     "output_type": "execute_result"
    }
   ],
   "source": [
    "# TODO: populate df with data for each resort from its own page\n",
    "import webbrowser\n",
    "\n",
    "webbrowser.open(resorts_df.iloc[81, 2], new=2)"
   ]
  },
  {
   "cell_type": "code",
   "execution_count": 8,
   "metadata": {},
   "outputs": [
    {
     "name": "stdout",
     "output_type": "stream",
     "text": [
      "<table class=\"skifacts thb\">\n",
      "<caption class=\"phone-off\">Avoriaz Ski Area Highlights</caption><tbody>\n",
      "<tr><th class=\"label\">Recommended For</th><td class=\"label\">Freeriders, Expert Skiers, Intermediates, Beginners, Snowboarders and Apres-Ski!</td></tr>\n",
      "<tr><th class=\"label\">Total Piste Length</th><td class=\"value\"><span class=\"m-t\">650km</span><span class=\"m-t m-off\">404 miles</span></td></tr>\n",
      "<tr><th class=\"label\">Highest Lift</th><td class=\"value\"><span class=\"m-t\">2,280m</span><span class=\"m-t m-off\">7,480ft</span></td></tr>\n",
      "<tr><th class=\"label\">Resort Height</th><td class=\"value\"><span class=\"m-t\">1,800m</span><span class=\"m-t m-off\">5,906ft</span></td></tr>\n",
      "<tr><th class=\"label\"><i class=\"fa fa-plane\"></i> Nearest Airports</th><td class=\"value\">Geneva and Sion</td></tr>\n",
      "<tr><th class=\"label\">Save Money on Ski Hire</th><td class=\"label\"><a class=\"ctabut warm r\" href=\"/ski_resorts/France/Avoriaz_ski_hire.html\" title=\"Reserve your Skis and Save Money in Avoriaz\"><span class=\"splash red\"><i class=\"fa fa-certificate\"></i></span> Save up to 50% <i class=\"fa fa-chevron-right\"></i></a></td></tr>\n",
      "<tr><th class=\"label\">Free Snow Reports by e-Mail</th><td class=\"label\"><a class=\"ctabut cool r\" href=\"#signup\"> <i class=\"fa fa-arrow-down\"></i> Sign Up Here</a></td></tr>\n",
      "</tbody>\n",
      "</table>\n"
     ]
    }
   ],
   "source": [
    "import re\n",
    "avoriaz = resorts_df.iloc[81]\n",
    "html = requests.get(avoriaz.URL).text\n",
    "soup = BeautifulSoup(html, 'html.parser')\n",
    "print(soup.find_all('table', 'skifacts thb'))"
   ]
  },
  {
   "cell_type": "code",
   "execution_count": null,
   "metadata": {},
   "outputs": [],
   "source": []
  }
 ],
 "metadata": {
  "kernelspec": {
   "display_name": "Python 3",
   "language": "python",
   "name": "python3"
  },
  "language_info": {
   "codemirror_mode": {
    "name": "ipython",
    "version": 3
   },
   "file_extension": ".py",
   "mimetype": "text/x-python",
   "name": "python",
   "nbconvert_exporter": "python",
   "pygments_lexer": "ipython3",
   "version": "3.7.0"
  }
 },
 "nbformat": 4,
 "nbformat_minor": 2
}
